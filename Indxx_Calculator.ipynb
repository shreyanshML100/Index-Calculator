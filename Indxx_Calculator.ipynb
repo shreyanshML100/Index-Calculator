{
  "nbformat": 4,
  "nbformat_minor": 0,
  "metadata": {
    "colab": {
      "provenance": []
    },
    "kernelspec": {
      "name": "python3",
      "display_name": "Python 3"
    },
    "language_info": {
      "name": "python"
    }
  },
  "cells": [
    {
      "cell_type": "markdown",
      "source": [
        "The following is a Basic Index Calculator which I have developed in accordance with the Standard Index Calculation Guidelines :\n",
        "\n",
        "The following corporate actions can be perfoirmed on the Indices generated:\n",
        "\n",
        "1. Cash Dividend / Special Cash Dividend\n",
        "2. Stock Dividend\n",
        "3. Stock Split\n",
        "4. Addition of New Components\n",
        "5. Deletion of Existing Components\n",
        "\n",
        "In addition one can also simulate random market conditions to simulate real time values in order to see how the index varies with varying market conditions."
      ],
      "metadata": {
        "id": "f44sxo_nVsOH"
      }
    },
    {
      "cell_type": "code",
      "execution_count": null,
      "metadata": {
        "id": "f1Z0p984mAvc"
      },
      "outputs": [],
      "source": [
        "import numpy as np\n",
        "import random\n",
        "\n",
        "class Index:\n",
        "\n",
        "  def __init__(self,num):\n",
        "    self.n = num\n",
        "    self.x = []\n",
        "    self.p = []\n",
        "\n",
        "    for i in range(self.n):\n",
        "      (self.x).append(float(input(\"Initial Number of Index shares of Index component %d : \"%(i+1))))\n",
        "      (self.p).append(float(input(\"Initial Price of Index Component %d : \"%(i+1))))\n",
        "\n",
        "\n",
        "\n",
        "    self.cap = np.dot(np.array(self.x),np.array(self.p))\n",
        "\n",
        "    self.divisor = self.cap\n",
        "\n",
        "    self.val = self.cap/self.divisor*100\n",
        "\n",
        "\n",
        "    self.initX = self.x\n",
        "    self.initP = self.p\n",
        "    self.initMarketCap = self.cap\n",
        "    print(\"\\n\")\n",
        "    self.display()\n",
        "\n",
        "    pass\n",
        "\n",
        "\n",
        "  def compute(self):\n",
        "\n",
        "    self.initMarketCap = np.dot(np.array(self.initX),np.array(self.initP))\n",
        "\n",
        "    self.cap = np.dot(np.array(self.x),np.array(self.p))\n",
        "\n",
        "    self.divisor = (self.divisor*self.val + (self.cap - self.initMarketCap))/self.val\n",
        "\n",
        "    self.update()\n",
        "    pass\n",
        "\n",
        "\n",
        "\n",
        "  def cashDividend(self,i,amtDiv):                                                      # Cash Dividend on\n",
        "\n",
        "    aP = self.p[i-1] - amtDiv\n",
        "    self.p[i-1] = aP                                                                      # Price of the stock of the company is Adjusted because of the dividend\n",
        "\n",
        "    self.initMarketCap = self.cap\n",
        "    self.cap = np.dot(np.array(self.x),np.array(self.p))\n",
        "    self.divisor = (self.divisor*self.val + (self.cap - self.initMarketCap)*100)/self.val\n",
        "\n",
        "    self.initX = self.x\n",
        "    self.initP = self.p\n",
        "\n",
        "    self.display()\n",
        "\n",
        "    pass\n",
        "\n",
        "\n",
        "  def stockDividend(self, i, percentStockDiv):\n",
        "\n",
        "    self.x[i-1] = self.x[i-1]*(1+percentStockDiv/100.0)                                      #Adjusting the Number of Stocks\n",
        "    self.p[i-1] = self.p[i-1]*1/(1+percentStockDiv/100.0)                                     #Adjusting the price of the Stock\n",
        "\n",
        "    self.initMarketCap = self.cap\n",
        "    self.cap = np.dot(np.array(self.x),np.array(self.p))\n",
        "    self.divisor = (self.divisor*self.val + (self.cap - self.initMarketCap)*100)/self.val\n",
        "\n",
        "    self.initX = self.x\n",
        "    self.initP = self.p\n",
        "    self.display()\n",
        "    pass\n",
        "\n",
        "\n",
        "  def stockSplit(self,i):\n",
        "\n",
        "    R = float(input(\"Input the Split Ratio: \"))\n",
        "    self.x[i-1] = self.x[i-1] * R;\n",
        "    self.p[i-1] = self.p[i-1] / R;\n",
        "\n",
        "    self.initMarketCap = self.cap\n",
        "    self.cap = np.dot(np.array(self.x),np.array(self.p))\n",
        "    self.divisor = (self.divisor*self.val + (self.cap - self.initMarketCap)*100)/self.val\n",
        "\n",
        "    self.initX = self.x;\n",
        "    self.initP = self.p;\n",
        "    self.display()\n",
        "    pass\n",
        "\n",
        "  def add(self,xn,pn):\n",
        "\n",
        "    (self.x).append(xn)\n",
        "    (self.p).append(pn)\n",
        "    self.n+=1\n",
        "    self.initMarketCap = self.cap\n",
        "    self.cap = np.dot(np.array(self.x),np.array(self.p))\n",
        "    self.divisor = (self.divisor*self.val + (self.cap - self.initMarketCap)*100)/self.val\n",
        "    self.display()\n",
        "    pass\n",
        "\n",
        "  def delete(self,i):\n",
        "\n",
        "    (self.x).pop(i-1)\n",
        "    (self.p).pop(i-1)\n",
        "    self.n-=1\n",
        "    self.initMarketCap = self.cap\n",
        "    self.cap = np.dot(np.array(self.x),np.array(self.p))\n",
        "    self.divisor = (self.divisor*self.val + (self.cap - self.initMarketCap)*100)/self.val\n",
        "\n",
        "    self.display()\n",
        "    pass\n",
        "\n",
        "  def update(self):\n",
        "    self.cap = np.dot(np.array(self.x),np.array(self.p))\n",
        "    self.val = self.cap/self.divisor*100\n",
        "    pass\n",
        "\n",
        "  def simulateNextDay(self):\n",
        "\n",
        "    for i in range(self.n):\n",
        "      self.x[i] = self.initX[i] * (0.3 + random.random()*1.7)\n",
        "      self.p[i] = self.initP[i] * (0.3 + random.random()*1.7)\n",
        "\n",
        "    self.update()\n",
        "    self.display()\n",
        "\n",
        "    #self.initX = self.x\n",
        "    #self.initP = self.p\n",
        "\n",
        "    pass\n",
        "\n",
        "\n",
        "  def display(self):\n",
        "\n",
        "    for i in range(self.n):\n",
        "      print(\"Price of %d is %f \\n\" %((i+1),(self.p[i])))\n",
        "      print(\"Volume of %d is %f \\n\" %((i+1),(self.x[i])))\n",
        "\n",
        "    print(\"Market Capitalisation = \", self.cap)\n",
        "    print(\"Value of the Index = \", self.val)\n",
        "    print(\"Divisor = \",self.divisor)\n",
        "\n",
        "    pass\n",
        "\n",
        "  pass\n",
        "\n"
      ]
    },
    {
      "cell_type": "code",
      "source": [
        "obj = Index(2)"
      ],
      "metadata": {
        "colab": {
          "base_uri": "https://localhost:8080/"
        },
        "id": "B76WDRNJNIct",
        "outputId": "b2fe9791-539f-4a4b-dca6-441b0369f833"
      },
      "execution_count": null,
      "outputs": [
        {
          "output_type": "stream",
          "name": "stdout",
          "text": [
            "Initial Number of Index shares of Index component 1 : 3\n",
            "Initial Price of Index Component 1 : 20\n",
            "Initial Number of Index shares of Index component 2 : 2\n",
            "Initial Price of Index Component 2 : 40\n",
            "Price of 1 is 20.000000 \n",
            "\n",
            "Volume of 1 is 3.000000 \n",
            "\n",
            "Price of 2 is 40.000000 \n",
            "\n",
            "Volume of 2 is 2.000000 \n",
            "\n",
            "Market Capitalisation =  140.0\n",
            "Value of the Index =  100.0\n",
            "Divisor =  140.0\n"
          ]
        }
      ]
    },
    {
      "cell_type": "code",
      "source": [
        "obj.cashDividend(1,10)\n"
      ],
      "metadata": {
        "id": "uwgVtApXa1KS",
        "colab": {
          "base_uri": "https://localhost:8080/"
        },
        "outputId": "bee12c83-c7df-4ac3-c946-8bdc3fc1699f"
      },
      "execution_count": null,
      "outputs": [
        {
          "output_type": "stream",
          "name": "stdout",
          "text": [
            "Price of 1 is 10.000000 \n",
            "\n",
            "Volume of 1 is 3.000000 \n",
            "\n",
            "Price of 2 is 40.000000 \n",
            "\n",
            "Volume of 2 is 2.000000 \n",
            "\n",
            "Market Capitalisation =  110.0\n",
            "Value of the Index =  100.0\n",
            "Divisor =  110.0\n"
          ]
        }
      ]
    },
    {
      "cell_type": "code",
      "source": [
        "obj.stockDividend(1,10)"
      ],
      "metadata": {
        "colab": {
          "base_uri": "https://localhost:8080/"
        },
        "id": "om3ucSCjcwwQ",
        "outputId": "1e810e7b-edfb-4a09-f1a1-c10b030d0d3a"
      },
      "execution_count": null,
      "outputs": [
        {
          "output_type": "stream",
          "name": "stdout",
          "text": [
            "Price of 1 is 9.090909 \n",
            "\n",
            "Volume of 1 is 3.300000 \n",
            "\n",
            "Price of 2 is 40.000000 \n",
            "\n",
            "Volume of 2 is 2.000000 \n",
            "\n",
            "Market Capitalisation =  110.0\n",
            "Value of the Index =  100.0\n",
            "Divisor =  110.0\n"
          ]
        }
      ]
    },
    {
      "cell_type": "code",
      "source": [
        "obj.add(1,20)\n"
      ],
      "metadata": {
        "id": "KTy6hNpJd1RW",
        "colab": {
          "base_uri": "https://localhost:8080/"
        },
        "outputId": "e438038f-b7e5-4888-d953-d6a5b41b50ce"
      },
      "execution_count": null,
      "outputs": [
        {
          "output_type": "stream",
          "name": "stdout",
          "text": [
            "Price of 1 is 9.090909 \n",
            "\n",
            "Volume of 1 is 3.300000 \n",
            "\n",
            "Price of 2 is 40.000000 \n",
            "\n",
            "Volume of 2 is 2.000000 \n",
            "\n",
            "Price of 3 is 20.000000 \n",
            "\n",
            "Volume of 3 is 1.000000 \n",
            "\n",
            "Market Capitalisation =  130.0\n",
            "Value of the Index =  100.0\n",
            "Divisor =  130.0\n"
          ]
        }
      ]
    },
    {
      "cell_type": "code",
      "source": [
        "obj.delete(2)"
      ],
      "metadata": {
        "id": "dKbUxvGje9DY",
        "colab": {
          "base_uri": "https://localhost:8080/"
        },
        "outputId": "d2265c68-bc99-468f-d481-e34fe1032612"
      },
      "execution_count": null,
      "outputs": [
        {
          "output_type": "stream",
          "name": "stdout",
          "text": [
            "Price of 1 is 9.090909 \n",
            "\n",
            "Volume of 1 is 3.300000 \n",
            "\n",
            "Price of 2 is 40.000000 \n",
            "\n",
            "Volume of 2 is 2.000000 \n",
            "\n",
            "Market Capitalisation =  110.0\n",
            "Value of the Index =  100.0\n",
            "Divisor =  110.0\n"
          ]
        }
      ]
    },
    {
      "cell_type": "code",
      "source": [
        "obj.stockSplit(1)"
      ],
      "metadata": {
        "colab": {
          "base_uri": "https://localhost:8080/"
        },
        "id": "0jaZqU1ngrjH",
        "outputId": "048f8f78-9cca-4949-fda9-bec7719414aa"
      },
      "execution_count": null,
      "outputs": [
        {
          "output_type": "stream",
          "name": "stdout",
          "text": [
            "Input the Split Ratio: 4\n",
            "Price of 1 is 2.272727 \n",
            "\n",
            "Volume of 1 is 13.200000 \n",
            "\n",
            "Price of 2 is 40.000000 \n",
            "\n",
            "Volume of 2 is 2.000000 \n",
            "\n",
            "Market Capitalisation =  110.0\n",
            "Value of the Index =  100.0\n",
            "Divisor =  110.0\n"
          ]
        }
      ]
    },
    {
      "cell_type": "code",
      "source": [
        "obj.simulateNextDay()"
      ],
      "metadata": {
        "colab": {
          "base_uri": "https://localhost:8080/"
        },
        "id": "LETisfA-g5eX",
        "outputId": "a57a4533-94d3-4fc2-d886-0697a8c22026"
      },
      "execution_count": null,
      "outputs": [
        {
          "output_type": "stream",
          "name": "stdout",
          "text": [
            "Price of 1 is 4.633732 \n",
            "\n",
            "Volume of 1 is 3.376689 \n",
            "\n",
            "Price of 2 is 4.544213 \n",
            "\n",
            "Volume of 2 is 7.052884 \n",
            "\n",
            "Market Capitalisation =  47.69648161828484\n",
            "Value of the Index =  43.3604378348044\n",
            "Divisor =  110.0\n"
          ]
        }
      ]
    }
  ]
}